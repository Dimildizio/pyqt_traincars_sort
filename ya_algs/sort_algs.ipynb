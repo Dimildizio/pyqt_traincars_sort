{
  "nbformat": 4,
  "nbformat_minor": 0,
  "metadata": {
    "colab": {
      "provenance": [],
      "authorship_tag": "ABX9TyMwQXP1H9eTUaw65KLVjC9D",
      "include_colab_link": true
    },
    "kernelspec": {
      "name": "python3",
      "display_name": "Python 3"
    },
    "language_info": {
      "name": "python"
    }
  },
  "cells": [
    {
      "cell_type": "markdown",
      "metadata": {
        "id": "view-in-github",
        "colab_type": "text"
      },
      "source": [
        "<a href=\"https://colab.research.google.com/github/Dimildizio/pyqt_traincars_sort/blob/master/ya_algs/sort_algs.ipynb\" target=\"_parent\"><img src=\"https://colab.research.google.com/assets/colab-badge.svg\" alt=\"Open In Colab\"/></a>"
      ]
    },
    {
      "cell_type": "code",
      "execution_count": 4,
      "metadata": {
        "id": "aT4WJToDR7E0"
      },
      "outputs": [],
      "source": [
        "def partition(N_length: str, a_list: str, pivot_x: str):\n",
        "  N_length = int(N_length)\n",
        "  a_list = [int(x) for x in a_list.split()]\n",
        "  pivot_x = int(pivot_x)\n",
        "  less, more = 0,0\n",
        "  for n in range(N_length):\n",
        "    num = a_list[n]\n",
        "    if num < pivot_x:\n",
        "      less+=1\n",
        "    else:\n",
        "      more+=1\n",
        "  print(less)\n",
        "  print(more)\n",
        "  return less, more\n"
      ]
    },
    {
      "cell_type": "code",
      "source": [
        "for args in (('5', '1 9 4 2 3', '3'), ('0', '', '0'), ('1', '0', '0')):\n",
        "  print(args)\n",
        "  partition(*args)\n",
        "  print()"
      ],
      "metadata": {
        "colab": {
          "base_uri": "https://localhost:8080/"
        },
        "id": "T1IEQXjjR8VI",
        "outputId": "e228494c-7238-4c98-ce71-ac31d548fa2f"
      },
      "execution_count": 8,
      "outputs": [
        {
          "output_type": "stream",
          "name": "stdout",
          "text": [
            "('5', '1 9 4 2 3', '3')\n",
            "2\n",
            "3\n",
            "\n",
            "('0', '', '0')\n",
            "0\n",
            "0\n",
            "\n",
            "('1', '0', '0')\n",
            "0\n",
            "1\n",
            "\n"
          ]
        }
      ]
    }
  ]
}